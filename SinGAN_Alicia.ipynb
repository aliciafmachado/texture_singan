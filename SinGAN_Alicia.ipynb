{
  "cells": [
    {
      "cell_type": "markdown",
      "metadata": {
        "id": "view-in-github",
        "colab_type": "text"
      },
      "source": [
        "<a href=\"https://colab.research.google.com/github/aliciafmachado/texture_singan/blob/main/SinGAN_Alicia.ipynb\" target=\"_parent\"><img src=\"https://colab.research.google.com/assets/colab-badge.svg\" alt=\"Open In Colab\"/></a>"
      ]
    },
    {
      "cell_type": "markdown",
      "metadata": {
        "id": "CBDrn-aA4ApE"
      },
      "source": [
        "# Synthesis of textures from generative adversarial networks (SinGAN)"
      ]
    },
    {
      "cell_type": "markdown",
      "metadata": {
        "id": "ifTNKNVJCjhF"
      },
      "source": [
        "Authors: Alicia FORTES MACHADO et Raphael MENDES"
      ]
    },
    {
      "cell_type": "markdown",
      "metadata": {
        "id": "qbpdrQSGXPHu"
      },
      "source": [
        "## Introduction"
      ]
    },
    {
      "cell_type": "markdown",
      "metadata": {
        "id": "g3jKEvTXXQIW"
      },
      "source": [
        "The key innovation on [SinGAN: Learning a Generative Model from a Single Natural Image](https://arxiv.org/pdf/1905.01164.pdf)  is to train from a single image and generalize a GAN to different tasks in computer vision: denoising, inpainting, generation of new images from random noise, and even animation.\n",
        "\n",
        "[expliquer un peu des autres choses qui sont là aujourdhui]\n",
        "\n"
      ]
    },
    {
      "cell_type": "markdown",
      "metadata": {
        "id": "A_uXG75jXFvS"
      },
      "source": [
        "## Theory"
      ]
    },
    {
      "cell_type": "markdown",
      "metadata": {
        "id": "YiGxyCAwXn8m"
      },
      "source": [
        "[expliquer comment singan fonctionne et tout]"
      ]
    },
    {
      "cell_type": "markdown",
      "metadata": {
        "id": "-a22Oqc_4Ds5"
      },
      "source": [
        "## Entrainement du réseau de neurones SinGAN"
      ]
    },
    {
      "cell_type": "markdown",
      "metadata": {
        "id": "vENTItuzD_Xs"
      },
      "source": [
        "TODO: on peut ajouter des autres images de texture vraiment comme ces proposés au cours"
      ]
    },
    {
      "cell_type": "markdown",
      "source": [
        "### Setting up"
      ],
      "metadata": {
        "id": "ogJ_qeokMQyv"
      }
    },
    {
      "cell_type": "markdown",
      "source": [
        "Connecting to drive if you are using colab:"
      ],
      "metadata": {
        "id": "ndYBvnIiMUgO"
      }
    },
    {
      "cell_type": "code",
      "source": [
        "# Connect to drive in to save images and etc directly there\n",
        "from google.colab import drive\n",
        "drive.mount('/content/drive', force_remount=True)\n",
        "%cd 'drive/My Drive/MVA/ImagerieNumerique/projet'\n",
        "%ls"
      ],
      "metadata": {
        "colab": {
          "base_uri": "https://localhost:8080/"
        },
        "id": "st6wF2zYYrXu",
        "outputId": "f4d96d46-9c15-4dae-b194-777d747c17dc"
      },
      "execution_count": 1,
      "outputs": [
        {
          "output_type": "stream",
          "name": "stdout",
          "text": [
            "Mounted at /content/drive\n",
            "/content/drive/My Drive/MVA/ImagerieNumerique/projet\n",
            "\u001b[0m\u001b[01;34mSinGAN\u001b[0m/\n"
          ]
        }
      ]
    },
    {
      "cell_type": "markdown",
      "source": [
        "Use cells below only if it's first installation.\n",
        "\n"
      ],
      "metadata": {
        "id": "7DzPTZUhZRuP"
      }
    },
    {
      "cell_type": "code",
      "execution_count": 2,
      "metadata": {
        "colab": {
          "base_uri": "https://localhost:8080/"
        },
        "id": "R9XpMcue3-6y",
        "outputId": "3c00f3ae-df8e-4780-b8cb-9de3e1f78679"
      },
      "outputs": [
        {
          "output_type": "stream",
          "name": "stdout",
          "text": [
            "/content/drive/My Drive/MVA/ImagerieNumerique/projet/SinGAN\n"
          ]
        }
      ],
      "source": [
        "## Premièrement, on clone le github de singan\n",
        "! git clone https://github.com/tamarott/SinGAN.git\n",
        "% cd SinGAN"
      ]
    },
    {
      "cell_type": "code",
      "execution_count": null,
      "metadata": {
        "id": "ZTKS5d2L5OIC"
      },
      "outputs": [],
      "source": [
        "! python -m pip install -r requirements.txt"
      ]
    },
    {
      "cell_type": "code",
      "execution_count": null,
      "metadata": {
        "id": "K2qq6fXKAnLO"
      },
      "outputs": [],
      "source": [
        "# Downgrade torchvision version\n",
        "! pip install --upgrade torchvision==0.4.0"
      ]
    },
    {
      "cell_type": "markdown",
      "metadata": {
        "id": "ACA-sh0gIVXn"
      },
      "source": [
        "## Load trained models and test them"
      ]
    },
    {
      "cell_type": "code",
      "execution_count": 5,
      "metadata": {
        "colab": {
          "base_uri": "https://localhost:8080/"
        },
        "id": "Y9Jpm72Sfovu",
        "outputId": "481e7d2d-eeb5-4616-adec-9272d2367247"
      },
      "outputs": [
        {
          "output_type": "stream",
          "name": "stdout",
          "text": [
            "Random Seed:  3133\n",
            "Random Seed:  2079\n",
            "Random Seed:  4853\n",
            "Random Seed:  5138\n",
            "CPU times: user 683 ms, sys: 109 ms, total: 793 ms\n",
            "Wall time: 1min 53s\n"
          ]
        }
      ],
      "source": [
        "%%time\n",
        "! python random_samples.py --input_name rocks_small_1_8.png --mode random_samples_arbitrary_sizes --gen_start_scale 0 --scale_h 8 --scale_v 8\n",
        "! python random_samples.py --input_name rocks_small_1_8.png --mode random_samples_arbitrary_sizes --gen_start_scale 0 --scale_h 4 --scale_v 4\n",
        "! python random_samples.py --input_name rocks_small_1_8.png --mode random_samples_arbitrary_sizes --gen_start_scale 0 --scale_h 2 --scale_v 2\n",
        "! python random_samples.py --input_name rocks_small_1_8.png --mode random_samples_arbitrary_sizes --gen_start_scale 0 --scale_h 1 --scale_v 1"
      ]
    },
    {
      "cell_type": "code",
      "source": [
        "! python random_samples.py --input_name saumon.png --mode random_samples_arbitrary_sizes --gen_start_scale 0 --scale_h 4 --scale_v 1"
      ],
      "metadata": {
        "colab": {
          "base_uri": "https://localhost:8080/"
        },
        "id": "1KHKZy4o9df-",
        "outputId": "51236537-fd81-493e-93e1-7799850250de"
      },
      "execution_count": 24,
      "outputs": [
        {
          "output_type": "stream",
          "name": "stdout",
          "text": [
            "Random Seed:  4504\n"
          ]
        }
      ]
    },
    {
      "cell_type": "code",
      "source": [
        "! python random_samples.py --input_name saumon.png --mode random_samples_arbitrary_sizes --gen_start_scale 0 --scale_h 1 --scale_v 4"
      ],
      "metadata": {
        "colab": {
          "base_uri": "https://localhost:8080/"
        },
        "id": "Idvmgspt9sDm",
        "outputId": "b7fd8002-2b9b-46e9-c16e-6f51f1a54319"
      },
      "execution_count": 25,
      "outputs": [
        {
          "output_type": "stream",
          "name": "stdout",
          "text": [
            "Random Seed:  9949\n"
          ]
        }
      ]
    },
    {
      "cell_type": "code",
      "execution_count": null,
      "metadata": {
        "id": "-xcMXKDBnW9J"
      },
      "outputs": [],
      "source": [
        "from google.colab import files\n",
        "# Download Output\n",
        "! zip -r Output_smaller_rocks_leafs_saumon Output\n",
        "files.download('Output_smaller_rocks_leafs_saumon.zip')"
      ]
    },
    {
      "cell_type": "markdown",
      "metadata": {
        "id": "a2wdX7_cNGEj"
      },
      "source": [
        "Here, we can argue that there it has a high complexity with respect to the size of the final image, since it took 3min28s for 8 times the original size of the rocks image. While for 4 it took 52s.\n",
        "\n",
        "Results are qualitatively comparable to samples generated from larger rocks image.\n",
        "\n",
        "In terms of metrics, we measure those below.\n",
        "\n",
        "Training time was similar, which suggests that maybe it trains as much in a smaller image, and therefore improve results. We will try with a larger images and analyze results"
      ]
    },
    {
      "cell_type": "code",
      "execution_count": null,
      "metadata": {
        "colab": {
          "base_uri": "https://localhost:8080/"
        },
        "id": "W4uGIHIQIcGd",
        "outputId": "e945c019-ffb5-48b4-8c23-1b9dc727a597"
      },
      "outputs": [
        {
          "name": "stdout",
          "output_type": "stream",
          "text": [
            "Random Seed:  8663\n"
          ]
        }
      ],
      "source": [
        "! python paint2image.py --input_name rock_small_cropped.png --ref_name cows.png --paint_start_scale 4"
      ]
    },
    {
      "cell_type": "code",
      "execution_count": null,
      "metadata": {
        "id": "muMY8Nzdj9sv"
      },
      "outputs": [],
      "source": [
        "! zip -r Output.zip Output"
      ]
    },
    {
      "cell_type": "code",
      "execution_count": 27,
      "metadata": {
        "colab": {
          "base_uri": "https://localhost:8080/",
          "height": 17
        },
        "id": "jd9pBCSgkJS6",
        "outputId": "49fa1581-f0be-4110-c430-cf4f4f08e648"
      },
      "outputs": [
        {
          "output_type": "display_data",
          "data": {
            "application/javascript": [
              "\n",
              "    async function download(id, filename, size) {\n",
              "      if (!google.colab.kernel.accessAllowed) {\n",
              "        return;\n",
              "      }\n",
              "      const div = document.createElement('div');\n",
              "      const label = document.createElement('label');\n",
              "      label.textContent = `Downloading \"${filename}\": `;\n",
              "      div.appendChild(label);\n",
              "      const progress = document.createElement('progress');\n",
              "      progress.max = size;\n",
              "      div.appendChild(progress);\n",
              "      document.body.appendChild(div);\n",
              "\n",
              "      const buffers = [];\n",
              "      let downloaded = 0;\n",
              "\n",
              "      const channel = await google.colab.kernel.comms.open(id);\n",
              "      // Send a message to notify the kernel that we're ready.\n",
              "      channel.send({})\n",
              "\n",
              "      for await (const message of channel.messages) {\n",
              "        // Send a message to notify the kernel that we're ready.\n",
              "        channel.send({})\n",
              "        if (message.buffers) {\n",
              "          for (const buffer of message.buffers) {\n",
              "            buffers.push(buffer);\n",
              "            downloaded += buffer.byteLength;\n",
              "            progress.value = downloaded;\n",
              "          }\n",
              "        }\n",
              "      }\n",
              "      const blob = new Blob(buffers, {type: 'application/binary'});\n",
              "      const a = document.createElement('a');\n",
              "      a.href = window.URL.createObjectURL(blob);\n",
              "      a.download = filename;\n",
              "      div.appendChild(a);\n",
              "      a.click();\n",
              "      div.remove();\n",
              "    }\n",
              "  "
            ],
            "text/plain": [
              "<IPython.core.display.Javascript object>"
            ]
          },
          "metadata": {}
        },
        {
          "output_type": "display_data",
          "data": {
            "application/javascript": [
              "download(\"download_c52923b7-8d15-4569-85ff-946b61073705\", \"Output.zip\", 167533848)"
            ],
            "text/plain": [
              "<IPython.core.display.Javascript object>"
            ]
          },
          "metadata": {}
        }
      ],
      "source": [
        "from google.colab import files\n",
        "files.download('Output.zip')"
      ]
    },
    {
      "cell_type": "markdown",
      "metadata": {
        "id": "4UCcLNnqIZLy"
      },
      "source": [
        "## Training new models"
      ]
    },
    {
      "cell_type": "code",
      "execution_count": null,
      "metadata": {
        "id": "bS-hR9OB5YLY"
      },
      "outputs": [],
      "source": [
        "! python main_train.py --input_name rocks_small_cropped.png"
      ]
    },
    {
      "cell_type": "code",
      "execution_count": null,
      "metadata": {
        "id": "21HHjSgHbyxO"
      },
      "outputs": [],
      "source": [
        "%%time\n",
        "! python main_train.py --input_name rocks_small_1_8.png"
      ]
    },
    {
      "cell_type": "code",
      "execution_count": null,
      "metadata": {
        "id": "aLfbCBuYby0R"
      },
      "outputs": [],
      "source": [
        "%%time\n",
        "! python main_train.py --input_name leafs_small_cropped.png"
      ]
    },
    {
      "cell_type": "code",
      "execution_count": null,
      "metadata": {
        "id": "BBXW6Y0qb1ZY"
      },
      "outputs": [],
      "source": [
        "%%time\n",
        "! python main_train.py --input_name saumon.png"
      ]
    },
    {
      "cell_type": "code",
      "execution_count": null,
      "metadata": {
        "id": "xYrxmoYPb1cH"
      },
      "outputs": [],
      "source": [
        "%%time\n",
        "! python main_train.py --input_name leafs_small_1_8.png"
      ]
    },
    {
      "cell_type": "code",
      "execution_count": null,
      "metadata": {
        "id": "HdpS2ZC1ddBR"
      },
      "outputs": [],
      "source": [
        "# Can our nn build a wall of bricks? and keep structural things\n",
        "# TODO"
      ]
    },
    {
      "cell_type": "code",
      "execution_count": null,
      "metadata": {
        "id": "gpsWRx75b2eh"
      },
      "outputs": [],
      "source": [
        "# Download models\n",
        "! zip -r TrainedModels_smaller_text.zip TrainedModels\n",
        "files.download('TrainedModels_smaller_text.zip')"
      ]
    },
    {
      "cell_type": "code",
      "execution_count": null,
      "metadata": {
        "colab": {
          "base_uri": "https://localhost:8080/"
        },
        "id": "yFg2xwRv4Mbx",
        "outputId": "979698cb-0b1f-47ff-b7dc-e8c11afe192b"
      },
      "outputs": [
        {
          "name": "stdout",
          "output_type": "stream",
          "text": [
            "Random Seed:  6142\n"
          ]
        }
      ],
      "source": [
        "## On fait des testes\n",
        "! python random_samples.py --input_name rocks_small.png --mode random_samples --gen_start_scale 0"
      ]
    },
    {
      "cell_type": "markdown",
      "metadata": {
        "id": "i7vpwmgxZSYw"
      },
      "source": [
        "We need to convert to JPG so that SIFID works."
      ]
    },
    {
      "cell_type": "code",
      "source": [
        "! rm Input/Results/rocks_small_1_8.jpg"
      ],
      "metadata": {
        "id": "t1DJKv1k3m_I"
      },
      "execution_count": 16,
      "outputs": []
    },
    {
      "cell_type": "code",
      "source": [
        "filename = 'rocks_small_1_8'\n",
        "path = \"Input/Images\"\n",
        "convert_to_jpg(filename, path, move_to_results=True)"
      ],
      "metadata": {
        "id": "Jg7mZIrU3tiA"
      },
      "execution_count": null,
      "outputs": []
    },
    {
      "cell_type": "code",
      "source": [
        "filename = '0'\n",
        "path = 'Output/RandomSamples_ArbitrerySizes/rocks_small_1_8/scale_v=4.000000_scale_h=4.000000'\n",
        "convert_to_jpg(filename, path)"
      ],
      "metadata": {
        "id": "qAnT5hPK3ve4"
      },
      "execution_count": null,
      "outputs": []
    },
    {
      "cell_type": "code",
      "source": [
        "# Remove so that we calculate the SIFID for correct image\n",
        "! rm Output/RandomSamples_ArbitrerySizes/rocks_small_1_8/scale_v=1.000000_scale_h=1.000000/0.jpg"
      ],
      "metadata": {
        "id": "r-Oqc47W10l_"
      },
      "execution_count": 13,
      "outputs": []
    },
    {
      "cell_type": "markdown",
      "metadata": {
        "id": "wckR05P6UzwH"
      },
      "source": [
        "The path is to the folder and not the file.\n",
        "\n"
      ]
    },
    {
      "cell_type": "code",
      "execution_count": 39,
      "metadata": {
        "colab": {
          "base_uri": "https://localhost:8080/"
        },
        "id": "5dAKwA3OS9rg",
        "outputId": "29b1117e-f2c6-4b7b-dd05-6416d840ae20"
      },
      "outputs": [
        {
          "output_type": "stream",
          "name": "stdout",
          "text": [
            "\r  0% 0/1 [00:00<?, ?it/s]\r100% 1/1 [00:00<00:00, 73.89it/s]\n",
            "\r  0% 0/1 [00:00<?, ?it/s]\r100% 1/1 [00:00<00:00, 154.54it/s]\n",
            "[0.08457186949316764]\n",
            "[0.08457187]\n",
            "SIFID:  0.08457187\n",
            "CPU times: user 1.09 s, sys: 154 ms, total: 1.24 s\n",
            "Wall time: 3min 50s\n"
          ]
        }
      ],
      "source": [
        "%%time\n",
        "# CAUTION: coment lines 245 and 246 in sifid_score.py to work\n",
        "# Before running this cell, it's necessary to coment lines 245 and 246 in the code\n",
        "# Since it requires the last characters of the image to be an integer number\n",
        "! python SIFID/sifid_score.py --path2real Input/Results --path2fake Output/RandomSamples_ArbitrerySizes/rocks_small_1_8/scale_v\\=1.000000_scale_h\\=1.000000"
      ]
    },
    {
      "cell_type": "markdown",
      "source": [
        "This results is correspondent to the ones reported in the paper. Now let's check for larger outputs.\n",
        "\n",
        "Then, we compare the 4 times increased to the original image."
      ],
      "metadata": {
        "id": "dQNqAa5H2M0g"
      }
    },
    {
      "cell_type": "code",
      "source": [
        "%%time\n",
        "# Evaluate when we want to increase the size of the image 4 times\n",
        "# horizontally and vertically\n",
        "! python SIFID/sifid_score.py --path2real Input/Results --path2fake Output/RandomSamples_ArbitrerySizes/rocks_small_1_8/scale_v\\=4.000000_scale_h\\=4.000000"
      ],
      "metadata": {
        "colab": {
          "base_uri": "https://localhost:8080/"
        },
        "id": "B8jTUGFG1yvh",
        "outputId": "c7fa547a-e9d9-4f60-b813-d4e33dde3eb3"
      },
      "execution_count": 18,
      "outputs": [
        {
          "output_type": "stream",
          "name": "stdout",
          "text": [
            "\r  0% 0/1 [00:00<?, ?it/s]\r100% 1/1 [00:00<00:00, 82.29it/s]\n",
            "\r  0% 0/1 [00:00<?, ?it/s]\r100% 1/1 [00:00<00:00,  8.50it/s]\r100% 1/1 [00:00<00:00,  8.48it/s]\n",
            "SIFID:  0.74693894\n",
            "CPU times: user 1 s, sys: 145 ms, total: 1.15 s\n",
            "Wall time: 3min 41s\n"
          ]
        }
      ]
    },
    {
      "cell_type": "code",
      "source": [
        "! rm Input/Results/rocks_small_1_8.jpg\n",
        "convert_to_jpg('rocks_small', 'Input/Images', move_to_results=True)"
      ],
      "metadata": {
        "id": "6mbwSCDT2tuu"
      },
      "execution_count": 19,
      "outputs": []
    },
    {
      "cell_type": "code",
      "source": [
        "%%time\n",
        "# Evaluate with respect to original image\n",
        "! python SIFID/sifid_score.py --path2real Input/Results --path2fake Output/RandomSamples_ArbitrerySizes/rocks_small_1_8/scale_v\\=4.000000_scale_h\\=4.000000"
      ],
      "metadata": {
        "colab": {
          "base_uri": "https://localhost:8080/"
        },
        "id": "TCJ4z6p42ht2",
        "outputId": "6eb41374-6465-43dc-f019-e6facf0f688b"
      },
      "execution_count": 20,
      "outputs": [
        {
          "output_type": "stream",
          "name": "stdout",
          "text": [
            "100% 1/1 [00:00<00:00, 11.92it/s]\n",
            "100% 1/1 [00:00<00:00,  9.40it/s]\n",
            "SIFID:  0.2079012\n",
            "CPU times: user 919 ms, sys: 133 ms, total: 1.05 s\n",
            "Wall time: 3min 29s\n"
          ]
        }
      ]
    },
    {
      "cell_type": "code",
      "source": [
        "convert_to_jpg('rocks_small_1_8', 'Input/Images', move_to_comp=True)"
      ],
      "metadata": {
        "id": "21QVYsvJ4Wvm"
      },
      "execution_count": 22,
      "outputs": []
    },
    {
      "cell_type": "code",
      "source": [
        "%%time\n",
        "# Evaluate patch removed from original image w.r.t. to the one created\n",
        "! python SIFID/sifid_score.py --path2real Input/Results --path2fake Input/Comparison"
      ],
      "metadata": {
        "colab": {
          "base_uri": "https://localhost:8080/"
        },
        "id": "PoqKke032lKr",
        "outputId": "2279d148-6418-437c-a876-36e0e64914dd"
      },
      "execution_count": 23,
      "outputs": [
        {
          "output_type": "stream",
          "name": "stdout",
          "text": [
            "\r  0% 0/1 [00:00<?, ?it/s]\r100% 1/1 [00:00<00:00, 11.77it/s]\n",
            "\r  0% 0/1 [00:00<?, ?it/s]\r100% 1/1 [00:00<00:00, 103.49it/s]\n",
            "SIFID:  0.64149064\n",
            "CPU times: user 926 ms, sys: 131 ms, total: 1.06 s\n",
            "Wall time: 3min 33s\n"
          ]
        }
      ]
    },
    {
      "cell_type": "code",
      "execution_count": null,
      "metadata": {
        "id": "6i03fyNPr2sq"
      },
      "outputs": [],
      "source": [
        "# Analyze statistics: distribution...\n",
        "# TODO: choose statistics and write here\n",
        "# TODO: implement statistics"
      ]
    },
    {
      "cell_type": "code",
      "execution_count": null,
      "metadata": {
        "colab": {
          "base_uri": "https://localhost:8080/"
        },
        "id": "Is_pkwbBr4ED",
        "outputId": "fa53fcf8-dd15-4807-e408-31428c2cef30"
      },
      "outputs": [
        {
          "name": "stdout",
          "output_type": "stream",
          "text": [
            "let'do it!\n"
          ]
        }
      ],
      "source": [
        "# Transfer learning idea\n",
        "# Load the model and call training on top of it\n",
        "# TODO"
      ]
    },
    {
      "cell_type": "code",
      "execution_count": null,
      "metadata": {
        "id": "C1T8WNBZGxcD"
      },
      "outputs": [],
      "source": [
        "! zip -r TrainedModels_w_smaller_rock.zip TrainedModels\n",
        "# ! zip -r Output_smaller.zip Output\n",
        "from google.colab import files\n",
        "files.download('TrainedModels_w_smaller_rock.zip')\n",
        "# files.download('Output_rock.zip')"
      ]
    },
    {
      "cell_type": "code",
      "execution_count": null,
      "metadata": {
        "id": "pHWuLcgs21ZJ"
      },
      "outputs": [],
      "source": [
        "! python main_train.py --input_name leafs_small.png"
      ]
    },
    {
      "cell_type": "code",
      "execution_count": null,
      "metadata": {
        "id": "Ynyfhb4o21dh"
      },
      "outputs": [],
      "source": [
        "! zip -r TrainedModels_leafs.zip TrainedModels\n",
        "from google.colab import files\n",
        "files.download('TrainedModels_leafs.zip')"
      ]
    },
    {
      "cell_type": "markdown",
      "metadata": {
        "id": "1NMFEFjeCfub"
      },
      "source": [
        "## Résultats qualitatives"
      ]
    },
    {
      "cell_type": "code",
      "execution_count": null,
      "metadata": {
        "id": "45X85OI0Cf6N"
      },
      "outputs": [],
      "source": [
        "## Faire des plots et tout"
      ]
    },
    {
      "cell_type": "markdown",
      "metadata": {
        "id": "IIePW21zB6_O"
      },
      "source": [
        "## Métriques"
      ]
    },
    {
      "cell_type": "markdown",
      "metadata": {
        "id": "rmzqbJwPB8vB"
      },
      "source": [
        "On a décidé de faire une analyse quantitative des échantillons générés."
      ]
    },
    {
      "cell_type": "code",
      "execution_count": null,
      "metadata": {
        "id": "kPjBkeI8B6aE"
      },
      "outputs": [],
      "source": [
        "# On commence par analyser d'une façon naive les image générés\n",
        "# TODO"
      ]
    },
    {
      "cell_type": "code",
      "source": [
        "# Maintenant on faire l'analyse des nos résultats avec des differents tailles\n",
        "def get_metric_naive():\n",
        "  pass"
      ],
      "metadata": {
        "id": "mBGzNCvtKv5T"
      },
      "execution_count": null,
      "outputs": []
    },
    {
      "cell_type": "markdown",
      "metadata": {
        "id": "vX8Rd6MGCNsH"
      },
      "source": [
        "## Patchmatch et SinGAN"
      ]
    },
    {
      "cell_type": "markdown",
      "metadata": {
        "id": "6oOrTT6YCP-t"
      },
      "source": [
        "On propose ici une analyse du méthode proprosée à l'article SinGAN en utilisant Patchmatch, de façon à vérifier le méthode.\n",
        "\n",
        "Le méthode consiste en prendre des patches plus proches des ces qu'on analyse sur l'image produit. De cette façon on peut compare ces patches de l'image généré avec l'image original en utilisant SIFID et en prenant le moyenne à la fin (entre tous les patches de l'image généré)."
      ]
    },
    {
      "cell_type": "code",
      "execution_count": null,
      "metadata": {
        "id": "9-rwf2iLsVGg"
      },
      "outputs": [],
      "source": [
        "# Pour patch-match: comparer les résultats\n",
        "# Implementation of nearest neighbor\n",
        "def get_nn_patch():\n",
        "  pass"
      ]
    },
    {
      "cell_type": "code",
      "source": [
        "# On calcule les métriques en utilisant get_nn_patch\n",
        "def get_metric_on_large_image():\n",
        "  pass"
      ],
      "metadata": {
        "id": "wl4-xzJlK4uM"
      },
      "execution_count": null,
      "outputs": []
    },
    {
      "cell_type": "markdown",
      "source": [
        "## Auxiliary Functions"
      ],
      "metadata": {
        "id": "QO0npwaDheuV"
      }
    },
    {
      "cell_type": "code",
      "source": [
        "from PIL import Image\n",
        "\n",
        "def resize(img_path, save_path, h=600, v=None):\n",
        "  im = Image.open(img_path)\n",
        "  h_or, v_or = im.size\n",
        "  im_r = im.resize((h, int(v_or * h / h_or)))\n",
        "  im_r.save(save_path)\n",
        "  print('Saved image!')"
      ],
      "metadata": {
        "id": "j3FZarS_heJp"
      },
      "execution_count": 8,
      "outputs": []
    },
    {
      "cell_type": "code",
      "execution_count": 21,
      "metadata": {
        "id": "ZdZcPSglYvHG"
      },
      "outputs": [],
      "source": [
        "def convert_to_jpg(filename, path, move_to_results=False, move_to_comp=False):\n",
        "  im = Image.open(path + '/' + filename + '.png')\n",
        "  rgb_im = im.convert('RGB')\n",
        "  if move_to_results:\n",
        "    rgb_im.save('Input/Results/' + filename + '.jpg')\n",
        "  elif move_to_comp:\n",
        "    rgb_im.save('Input/Comparison/' + filename + '.jpg')\n",
        "  else:\n",
        "    rgb_im.save(path + '/' + filename + '.jpg')"
      ]
    },
    {
      "cell_type": "code",
      "source": [
        "def crop_img(img_path, save_path, size=0.5):\n",
        "  \"Crops from middle.\"\n",
        "  im = Image.open(img_path)\n",
        "  h_or, v_or = im.size\n",
        "  top = v_or * (1 - size) / 2\n",
        "  bottom = v_or * (1 + size) / 2\n",
        "  left = h_or * (1 - size) / 2\n",
        "  right = h_or * (1 + size) / 2\n",
        "  im_c = im.crop((left, top, right, bottom))\n",
        "  im_c.save(save_path)\n",
        "  print('Cropped image!')"
      ],
      "metadata": {
        "id": "IekzgSFihlNo"
      },
      "execution_count": 9,
      "outputs": []
    },
    {
      "cell_type": "code",
      "source": [
        "resize(img_path='Input/Images/bricks_original.png', save_path='Input/Images/bricks.png')"
      ],
      "metadata": {
        "colab": {
          "base_uri": "https://localhost:8080/"
        },
        "id": "Z19Rh8MKI5uA",
        "outputId": "11aacd3a-c693-4a4c-c457-472c91fd3e73"
      },
      "execution_count": 13,
      "outputs": [
        {
          "output_type": "stream",
          "name": "stdout",
          "text": [
            "Saved image!\n"
          ]
        }
      ]
    },
    {
      "cell_type": "code",
      "source": [
        "crop_img(img_path='Input/Images/bricks.png', save_path='Input/Images/bricks_0_5.png')"
      ],
      "metadata": {
        "colab": {
          "base_uri": "https://localhost:8080/"
        },
        "id": "5laCSCeUJHeh",
        "outputId": "7d6b0658-6559-4664-ce01-eaaa7bcdc667"
      },
      "execution_count": 14,
      "outputs": [
        {
          "output_type": "stream",
          "name": "stdout",
          "text": [
            "Cropped image!\n"
          ]
        }
      ]
    }
  ],
  "metadata": {
    "accelerator": "GPU",
    "colab": {
      "collapsed_sections": [],
      "name": "SinGAN_Alicia.ipynb",
      "provenance": [],
      "authorship_tag": "ABX9TyMkWWsadLcy77k2/lVaAL7u",
      "include_colab_link": true
    },
    "kernelspec": {
      "display_name": "Python 3",
      "name": "python3"
    },
    "language_info": {
      "name": "python"
    }
  },
  "nbformat": 4,
  "nbformat_minor": 0
}